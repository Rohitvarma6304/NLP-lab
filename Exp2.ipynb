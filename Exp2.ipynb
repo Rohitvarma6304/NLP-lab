{
  "nbformat": 4,
  "nbformat_minor": 0,
  "metadata": {
    "colab": {
      "name": "Untitled3.ipynb",
      "provenance": [],
      "authorship_tag": "ABX9TyMDTweoZbjguFDDvAsqGJSs",
      "include_colab_link": true
    },
    "kernelspec": {
      "name": "python3",
      "display_name": "Python 3"
    },
    "language_info": {
      "name": "python"
    }
  },
  "cells": [
    {
      "cell_type": "markdown",
      "metadata": {
        "id": "view-in-github",
        "colab_type": "text"
      },
      "source": [
        "<a href=\"https://colab.research.google.com/github/Rohitvarma6304/NLP-lab/blob/main/Exp2.ipynb\" target=\"_parent\"><img src=\"https://colab.research.google.com/assets/colab-badge.svg\" alt=\"Open In Colab\"/></a>"
      ]
    },
    {
      "cell_type": "markdown",
      "metadata": {
        "id": "NaVuo6q1DwAx"
      },
      "source": [
        "**EXPERIMENT 2**"
      ]
    },
    {
      "cell_type": "markdown",
      "metadata": {
        "id": "nroOsEHAD1nr"
      },
      "source": [
        "**Tokenize the given text into words and sentences by using three methods (split method, regular expressions and NLTK)**\n"
      ]
    },
    {
      "cell_type": "markdown",
      "metadata": {
        "id": "hwg2AntvHjbJ"
      },
      "source": [
        "**1 Tokenization using Pythons split() function**"
      ]
    },
    {
      "cell_type": "code",
      "metadata": {
        "colab": {
          "base_uri": "https://localhost:8080/"
        },
        "id": "ip_35D87D3dZ",
        "outputId": "f788df5f-b063-40d1-8195-23dfeee66786"
      },
      "source": [
        "# Word Tokenization\n",
        "text = '''Marvel’s Avengers is an epic, third-person, action-adventure game that combines an original, cinematic story with single-player and co-operative gameplay*. Assemble into a team of up to four players online, master extraordinary abilities, customize a growing roster of Heroes, and defend the Earth from escalating threats.\n",
        "'''\n",
        "tokens = text.split()\n",
        "print(tokens)\n",
        "print(\"No.of tokens : \", len(tokens))\n"
      ],
      "execution_count": 1,
      "outputs": [
        {
          "output_type": "stream",
          "name": "stdout",
          "text": [
            "['Marvel’s', 'Avengers', 'is', 'an', 'epic,', 'third-person,', 'action-adventure', 'game', 'that', 'combines', 'an', 'original,', 'cinematic', 'story', 'with', 'single-player', 'and', 'co-operative', 'gameplay*.', 'Assemble', 'into', 'a', 'team', 'of', 'up', 'to', 'four', 'players', 'online,', 'master', 'extraordinary', 'abilities,', 'customize', 'a', 'growing', 'roster', 'of', 'Heroes,', 'and', 'defend', 'the', 'Earth', 'from', 'escalating', 'threats.']\n",
            "No.of tokens :  45\n"
          ]
        }
      ]
    },
    {
      "cell_type": "code",
      "metadata": {
        "colab": {
          "base_uri": "https://localhost:8080/"
        },
        "id": "pKG1Qr3lF-Aw",
        "outputId": "488b6003-a2cb-45f8-df81-ea96207ec4f6"
      },
      "source": [
        "# Sentence Tokenization\n",
        "text = '''Marvel’s Avengers is an epic, third-person, action-adventure game that combines an original, cinematic story with single-player and co-operative gameplay*. Assemble into a team of up to four players online, master extraordinary abilities, customize a growing roster of Heroes, and defend the Earth from escalating threats.\n",
        "'''\n",
        "sentences = text.split('.')\n",
        "print(sentences)\n",
        "print(\"No.of sentences : \", len(sentences))"
      ],
      "execution_count": 2,
      "outputs": [
        {
          "output_type": "stream",
          "name": "stdout",
          "text": [
            "['Marvel’s Avengers is an epic, third-person, action-adventure game that combines an original, cinematic story with single-player and co-operative gameplay*', ' Assemble into a team of up to four players online, master extraordinary abilities, customize a growing roster of Heroes, and defend the Earth from escalating threats', '\\n']\n",
            "No.of sentences :  3\n"
          ]
        }
      ]
    },
    {
      "cell_type": "markdown",
      "metadata": {
        "id": "tn0WcTpUHxBo"
      },
      "source": [
        "**2. Tokenization using Regular Expressions (RegEx)**"
      ]
    },
    {
      "cell_type": "code",
      "metadata": {
        "id": "EwA7eoFIH466"
      },
      "source": [
        "import re"
      ],
      "execution_count": 3,
      "outputs": []
    },
    {
      "cell_type": "code",
      "metadata": {
        "colab": {
          "base_uri": "https://localhost:8080/"
        },
        "id": "kB1nMHKgH7Sw",
        "outputId": "ed0ac82a-39b4-4a69-d9de-641ef48daf6c"
      },
      "source": [
        "#word tokenization\n",
        "tokens = re.findall(\"[\\w']+\", text)  \n",
        "print(tokens)\n",
        "print(\"No.of tokens : \", len(tokens))\n"
      ],
      "execution_count": 4,
      "outputs": [
        {
          "output_type": "stream",
          "name": "stdout",
          "text": [
            "['Marvel', 's', 'Avengers', 'is', 'an', 'epic', 'third', 'person', 'action', 'adventure', 'game', 'that', 'combines', 'an', 'original', 'cinematic', 'story', 'with', 'single', 'player', 'and', 'co', 'operative', 'gameplay', 'Assemble', 'into', 'a', 'team', 'of', 'up', 'to', 'four', 'players', 'online', 'master', 'extraordinary', 'abilities', 'customize', 'a', 'growing', 'roster', 'of', 'Heroes', 'and', 'defend', 'the', 'Earth', 'from', 'escalating', 'threats']\n",
            "No.of tokens :  50\n"
          ]
        }
      ]
    },
    {
      "cell_type": "code",
      "metadata": {
        "colab": {
          "base_uri": "https://localhost:8080/"
        },
        "id": "VXu5sf8xIIwz",
        "outputId": "0522ccab-1ae3-40de-eed9-1b95ca00e1da"
      },
      "source": [
        "#sentence tokenization\n",
        "sentences = re.compile('[.:?!] ').split(text)\n",
        "print(sentences)\n",
        "print(\"No.of sentences : \", len(sentences))\n"
      ],
      "execution_count": 5,
      "outputs": [
        {
          "output_type": "stream",
          "name": "stdout",
          "text": [
            "['Marvel’s Avengers is an epic, third-person, action-adventure game that combines an original, cinematic story with single-player and co-operative gameplay*', 'Assemble into a team of up to four players online, master extraordinary abilities, customize a growing roster of Heroes, and defend the Earth from escalating threats.\\n']\n",
            "No.of sentences :  2\n"
          ]
        }
      ]
    },
    {
      "cell_type": "markdown",
      "metadata": {
        "id": "iG8u1Kh4Ihnn"
      },
      "source": [
        "**3. Tokenization using NLTK**"
      ]
    },
    {
      "cell_type": "code",
      "metadata": {
        "colab": {
          "base_uri": "https://localhost:8080/"
        },
        "id": "tvzcv3ydIlgK",
        "outputId": "a2bd13f0-19cb-431a-c8d8-3b18a9da9d94"
      },
      "source": [
        "!pip install --user -U nltk\n"
      ],
      "execution_count": 7,
      "outputs": [
        {
          "output_type": "stream",
          "name": "stdout",
          "text": [
            "Requirement already satisfied: nltk in /root/.local/lib/python3.7/site-packages (3.6.5)\n",
            "Requirement already satisfied: tqdm in /usr/local/lib/python3.7/dist-packages (from nltk) (4.62.3)\n",
            "Requirement already satisfied: joblib in /usr/local/lib/python3.7/dist-packages (from nltk) (1.0.1)\n",
            "Requirement already satisfied: regex>=2021.8.3 in /root/.local/lib/python3.7/site-packages (from nltk) (2021.10.8)\n",
            "Requirement already satisfied: click in /usr/local/lib/python3.7/dist-packages (from nltk) (7.1.2)\n"
          ]
        }
      ]
    },
    {
      "cell_type": "code",
      "metadata": {
        "colab": {
          "base_uri": "https://localhost:8080/"
        },
        "id": "ExqqwbgLJCOe",
        "outputId": "8796489f-97fc-4b44-9bcc-003e896ff6c9"
      },
      "source": [
        "import nltk\n",
        "nltk.download('punkt')\n"
      ],
      "execution_count": 8,
      "outputs": [
        {
          "output_type": "stream",
          "name": "stdout",
          "text": [
            "[nltk_data] Downloading package punkt to /root/nltk_data...\n",
            "[nltk_data]   Unzipping tokenizers/punkt.zip.\n"
          ]
        },
        {
          "output_type": "execute_result",
          "data": {
            "text/plain": [
              "True"
            ]
          },
          "metadata": {},
          "execution_count": 8
        }
      ]
    },
    {
      "cell_type": "code",
      "metadata": {
        "colab": {
          "base_uri": "https://localhost:8080/"
        },
        "id": "XogfIBEuKCfA",
        "outputId": "003c97dd-d141-4ade-d433-5974797ea5b8"
      },
      "source": [
        "#word tokenization\n",
        "from nltk.tokenize import word_tokenize \n",
        "tokens = word_tokenize(text)\n",
        "print(tokens)\n",
        "print(\"No.of tokens : \", len(tokens))"
      ],
      "execution_count": 9,
      "outputs": [
        {
          "output_type": "stream",
          "name": "stdout",
          "text": [
            "['Marvel', '’', 's', 'Avengers', 'is', 'an', 'epic', ',', 'third-person', ',', 'action-adventure', 'game', 'that', 'combines', 'an', 'original', ',', 'cinematic', 'story', 'with', 'single-player', 'and', 'co-operative', 'gameplay*', '.', 'Assemble', 'into', 'a', 'team', 'of', 'up', 'to', 'four', 'players', 'online', ',', 'master', 'extraordinary', 'abilities', ',', 'customize', 'a', 'growing', 'roster', 'of', 'Heroes', ',', 'and', 'defend', 'the', 'Earth', 'from', 'escalating', 'threats', '.']\n",
            "No.of tokens :  55\n"
          ]
        }
      ]
    },
    {
      "cell_type": "code",
      "metadata": {
        "colab": {
          "base_uri": "https://localhost:8080/"
        },
        "id": "LD_yU_CFMToz",
        "outputId": "dd341d78-e11f-482f-dd46-b45437f90b13"
      },
      "source": [
        "#sentence tokenization\n",
        "from nltk.tokenize import sent_tokenize\n",
        "sentences = sent_tokenize(text)\n",
        "print(sentences)\n",
        "print(\"No.of sentences : \", len(sentences))\n"
      ],
      "execution_count": 10,
      "outputs": [
        {
          "output_type": "stream",
          "name": "stdout",
          "text": [
            "['Marvel’s Avengers is an epic, third-person, action-adventure game that combines an original, cinematic story with single-player and co-operative gameplay*.', 'Assemble into a team of up to four players online, master extraordinary abilities, customize a growing roster of Heroes, and defend the Earth from escalating threats.']\n",
            "No.of sentences :  2\n"
          ]
        }
      ]
    },
    {
      "cell_type": "markdown",
      "metadata": {
        "id": "9GftxSilUQ7o"
      },
      "source": [
        "**Perform stemming on the tokens present in the given sentence**"
      ]
    },
    {
      "cell_type": "code",
      "metadata": {
        "colab": {
          "base_uri": "https://localhost:8080/"
        },
        "id": "7PTxs2fMVRrS",
        "outputId": "1751118d-9882-4ad0-c638-de0378ccf496"
      },
      "source": [
        "from nltk.stem import PorterStemmer\n",
        "porter = PorterStemmer()\n",
        "\n",
        "sentence='''Marvel’s Avengers is an epic, third-person, action-adventure game that combines an original, cinematic story with single-player and co-operative gameplay*. Assemble into a team of up to four players online, master extraordinary abilities, customize a growing roster of Heroes, and defend the Earth from escalating threats.\n",
        "'''\n",
        "\n",
        "from nltk.tokenize import sent_tokenize, word_tokenize\n",
        "def stemSentence(sentence):\n",
        "    token_words=word_tokenize(sentence)\n",
        "    print(token_words)\n",
        "    stem_sentence=[]\n",
        "    for word in token_words:\n",
        "        stem_sentence.append(porter.stem(word))\n",
        "        stem_sentence.append(\" \")\n",
        "    return \"\".join(stem_sentence)\n",
        "\n",
        "x=stemSentence(sentence)\n",
        "print(\"Sentence after stemming :\", x)\n"
      ],
      "execution_count": 13,
      "outputs": [
        {
          "output_type": "stream",
          "name": "stdout",
          "text": [
            "['Marvel', '’', 's', 'Avengers', 'is', 'an', 'epic', ',', 'third-person', ',', 'action-adventure', 'game', 'that', 'combines', 'an', 'original', ',', 'cinematic', 'story', 'with', 'single-player', 'and', 'co-operative', 'gameplay*', '.', 'Assemble', 'into', 'a', 'team', 'of', 'up', 'to', 'four', 'players', 'online', ',', 'master', 'extraordinary', 'abilities', ',', 'customize', 'a', 'growing', 'roster', 'of', 'Heroes', ',', 'and', 'defend', 'the', 'Earth', 'from', 'escalating', 'threats', '.']\n",
            "Sentence after stemming : marvel ’ s aveng is an epic , third-person , action-adventur game that combin an origin , cinemat stori with single-play and co-op gameplay* . assembl into a team of up to four player onlin , master extraordinari abil , custom a grow roster of hero , and defend the earth from escal threat . \n"
          ]
        }
      ]
    },
    {
      "cell_type": "markdown",
      "metadata": {
        "id": "5F4_0bg5WDGG"
      },
      "source": [
        "**Perform lemmatization on the tokens present in the give sentence.**"
      ]
    },
    {
      "cell_type": "code",
      "metadata": {
        "colab": {
          "base_uri": "https://localhost:8080/"
        },
        "id": "tMevtIpVWEnc",
        "outputId": "b4af787a-fffb-46b9-e762-5fd2915f301c"
      },
      "source": [
        "import nltk\n",
        "nltk.download('wordnet')"
      ],
      "execution_count": 14,
      "outputs": [
        {
          "output_type": "stream",
          "name": "stdout",
          "text": [
            "[nltk_data] Downloading package wordnet to /root/nltk_data...\n",
            "[nltk_data]   Unzipping corpora/wordnet.zip.\n"
          ]
        },
        {
          "output_type": "execute_result",
          "data": {
            "text/plain": [
              "True"
            ]
          },
          "metadata": {},
          "execution_count": 14
        }
      ]
    },
    {
      "cell_type": "code",
      "metadata": {
        "colab": {
          "base_uri": "https://localhost:8080/"
        },
        "id": "txmtFe7MWkBY",
        "outputId": "8b61eb40-8737-4fd8-bb0b-b9612c649a03"
      },
      "source": [
        "import nltk\n",
        "from nltk.stem import WordNetLemmatizer\n",
        "wordnet_lemmatizer = WordNetLemmatizer()\n",
        "\n",
        "sentence = '''Marvel’s Avengers is an epic, third-person, action-adventure game that combines an original, cinematic story with single-player and co-operative gameplay*. Assemble into a team of up to four players online, master extraordinary abilities, customize a growing roster of Heroes, and defend the Earth from escalating threats.\n",
        "'''\n",
        "\n",
        "punctuations=\"?:!.,;\"\n",
        "token_words = nltk.word_tokenize(sentence)\n",
        "print(token_words)\n",
        "\n",
        "lemma_sentence=[]\n",
        "for word in token_words:\n",
        "  lemma_sentence.append(wordnet_lemmatizer.lemmatize(word))\n",
        "  lemma_sentence.append(\" \")\n",
        "\n",
        "print(\"lemmas of tokens: \", ''.join(lemma_sentence))\n"
      ],
      "execution_count": 15,
      "outputs": [
        {
          "output_type": "stream",
          "name": "stdout",
          "text": [
            "['Marvel', '’', 's', 'Avengers', 'is', 'an', 'epic', ',', 'third-person', ',', 'action-adventure', 'game', 'that', 'combines', 'an', 'original', ',', 'cinematic', 'story', 'with', 'single-player', 'and', 'co-operative', 'gameplay*', '.', 'Assemble', 'into', 'a', 'team', 'of', 'up', 'to', 'four', 'players', 'online', ',', 'master', 'extraordinary', 'abilities', ',', 'customize', 'a', 'growing', 'roster', 'of', 'Heroes', ',', 'and', 'defend', 'the', 'Earth', 'from', 'escalating', 'threats', '.']\n",
            "lemmas of tokens:  Marvel ’ s Avengers is an epic , third-person , action-adventure game that combine an original , cinematic story with single-player and co-operative gameplay* . Assemble into a team of up to four player online , master extraordinary ability , customize a growing roster of Heroes , and defend the Earth from escalating threat . \n"
          ]
        }
      ]
    }
  ]
}