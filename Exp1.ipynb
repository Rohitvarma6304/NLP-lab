{
  "nbformat": 4,
  "nbformat_minor": 0,
  "metadata": {
    "colab": {
      "name": "Untitled4.ipynb",
      "provenance": [],
      "authorship_tag": "ABX9TyMJjaGHvwovXwuSK7Ty5IFT",
      "include_colab_link": true
    },
    "kernelspec": {
      "name": "python3",
      "display_name": "Python 3"
    },
    "language_info": {
      "name": "python"
    }
  },
  "cells": [
    {
      "cell_type": "markdown",
      "metadata": {
        "id": "view-in-github",
        "colab_type": "text"
      },
      "source": [
        "<a href=\"https://colab.research.google.com/github/Rohitvarma6304/NLP-lab/blob/main/Exp1.ipynb\" target=\"_parent\"><img src=\"https://colab.research.google.com/assets/colab-badge.svg\" alt=\"Open In Colab\"/></a>"
      ]
    },
    {
      "cell_type": "markdown",
      "metadata": {
        "id": "9_yLaxBJzb76"
      },
      "source": [
        "**EXPERIMENT 1**"
      ]
    },
    {
      "cell_type": "markdown",
      "metadata": {
        "id": "G-MuGMRnzyU5"
      },
      "source": [
        "Replace all occurrences of 5 with ‘five’ for the given string"
      ]
    },
    {
      "cell_type": "code",
      "metadata": {
        "id": "y4yr8s4-z0vD"
      },
      "source": [
        "import re"
      ],
      "execution_count": 2,
      "outputs": []
    },
    {
      "cell_type": "code",
      "metadata": {
        "id": "vfcqs5Rd1AVE"
      },
      "source": [
        "s='Have you completed 5 courses?'"
      ],
      "execution_count": 1,
      "outputs": []
    },
    {
      "cell_type": "code",
      "metadata": {
        "colab": {
          "base_uri": "https://localhost:8080/",
          "height": 35
        },
        "id": "oV9lzc5E2leh",
        "outputId": "994ec634-1113-4acf-a513-4334e8811dba"
      },
      "source": [
        "re.sub(r'5', 'five', s)"
      ],
      "execution_count": 3,
      "outputs": [
        {
          "output_type": "execute_result",
          "data": {
            "application/vnd.google.colaboratory.intrinsic+json": {
              "type": "string"
            },
            "text/plain": [
              "'Have you completed five courses?'"
            ]
          },
          "metadata": {},
          "execution_count": 3
        }
      ]
    },
    {
      "cell_type": "markdown",
      "metadata": {
        "id": "IsIY1gtP3in_"
      },
      "source": [
        "For the given list, filter all elements that do not contain ‘e’.\n"
      ]
    },
    {
      "cell_type": "code",
      "metadata": {
        "colab": {
          "base_uri": "https://localhost:8080/"
        },
        "id": "sEOOUzIw3l5S",
        "outputId": "642b0851-7158-4af1-8771-5be039a7824d"
      },
      "source": [
        "list=['Expeiment','1','repository']\n",
        "[i for i in list if not re.search(r'e', i)]"
      ],
      "execution_count": 5,
      "outputs": [
        {
          "output_type": "execute_result",
          "data": {
            "text/plain": [
              "['1']"
            ]
          },
          "metadata": {},
          "execution_count": 5
        }
      ]
    },
    {
      "cell_type": "markdown",
      "metadata": {
        "id": "7nV6RTj852pY"
      },
      "source": [
        "For the given input string, display all lines not containing ‘start’ irrespective of case.\n"
      ]
    },
    {
      "cell_type": "code",
      "metadata": {
        "colab": {
          "base_uri": "https://localhost:8080/"
        },
        "id": "tslRt3kk7L7n",
        "outputId": "57165359-6f08-45a7-a9dc-993896465cd7"
      },
      "source": [
        "str = '''I will start my project on next week, \n",
        "when you will start your project?,\n",
        " All the best for your project'''\n",
        "w = re.compile(r'start', flags=re.I)\n",
        "for i in str.split('\\n'):\n",
        "     if not w.search(i):\n",
        "         print(i) "
      ],
      "execution_count": 9,
      "outputs": [
        {
          "output_type": "stream",
          "name": "stdout",
          "text": [
            " All the best for your project\n"
          ]
        }
      ]
    },
    {
      "cell_type": "markdown",
      "metadata": {
        "id": "ckMA9l4YMfme"
      },
      "source": [
        "For the given input list, filter all elements that contains 42 surrounded by word characters."
      ]
    },
    {
      "cell_type": "code",
      "metadata": {
        "colab": {
          "base_uri": "https://localhost:8080/"
        },
        "id": "QtisQp8DMj-B",
        "outputId": "aae67559-1069-4737-8480-6c1e5b0d8af3"
      },
      "source": [
        "list = ['rohitvarma42p', 'bhanuteja42k', 'harsha12', 'sandy3454']\n",
        "[x for x in list if re.search(r'\\B42\\B', x)]"
      ],
      "execution_count": 12,
      "outputs": [
        {
          "output_type": "execute_result",
          "data": {
            "text/plain": [
              "['rohitvarma42p', 'bhanuteja42k']"
            ]
          },
          "metadata": {},
          "execution_count": 12
        }
      ]
    },
    {
      "cell_type": "markdown",
      "metadata": {
        "id": "1WZiQodZNPWZ"
      },
      "source": [
        "Validate the CVV number(It should have 3 or 4 digits, It should have a digit between 0-9, It should not have any alphabets and special characters)"
      ]
    },
    {
      "cell_type": "code",
      "metadata": {
        "colab": {
          "base_uri": "https://localhost:8080/"
        },
        "id": "So3I9CyFNXKK",
        "outputId": "cd783d3d-168e-4778-ca7c-e6f015ae65f3"
      },
      "source": [
        "def isValidCVVNumber(str):\n",
        "    regex = \"^[0-9]{3,4}$\"\n",
        "    p = re.compile(regex)\n",
        "    if(str == None):\n",
        "        return False\n",
        "    if(re.search(p, str)):\n",
        "        return True\n",
        "    else:\n",
        "        return False\n",
        "s1 = \"123\"\n",
        "print(isValidCVVNumber(s1))\n",
        "s2 = \"456\"\n",
        "print(isValidCVVNumber(s2))\n",
        "s3 = \"789\"\n",
        "print(isValidCVVNumber(s3))\n",
        "s4 = \"9#1\"\n",
        "print(isValidCVVNumber(s4))"
      ],
      "execution_count": 13,
      "outputs": [
        {
          "output_type": "stream",
          "name": "stdout",
          "text": [
            "True\n",
            "True\n",
            "True\n",
            "False\n"
          ]
        }
      ]
    },
    {
      "cell_type": "markdown",
      "metadata": {
        "id": "4wEgHTwaN8xH"
      },
      "source": [
        "For the given input string, change whole word mall to 1234 only if it is at the start of a line\n"
      ]
    },
    {
      "cell_type": "code",
      "metadata": {
        "colab": {
          "base_uri": "https://localhost:8080/"
        },
        "id": "vPyyazENOKsu",
        "outputId": "873c4913-e4d0-4cd8-fb21-f58d71632dd7"
      },
      "source": [
        "p = '''mall hall ball\n",
        "hell mall wall\n",
        "mall gril mall\n",
        "call cell kill mall'''\n",
        "\n",
        "print(re.sub(r'^mall\\b', '1234', p, flags=re.M))"
      ],
      "execution_count": 14,
      "outputs": [
        {
          "output_type": "stream",
          "name": "stdout",
          "text": [
            "1234 hall ball\n",
            "hell mall wall\n",
            "1234 gril mall\n",
            "call cell kill mall\n"
          ]
        }
      ]
    },
    {
      "cell_type": "markdown",
      "metadata": {
        "id": "jRSYCZr1OmAp"
      },
      "source": [
        "Check whether the given email address is valid or not."
      ]
    },
    {
      "cell_type": "code",
      "metadata": {
        "colab": {
          "base_uri": "https://localhost:8080/"
        },
        "id": "4NDZCM4zOsm6",
        "outputId": "22adf51d-af41-4705-c2fe-4029a08fdf90"
      },
      "source": [
        "regex = r'\\b[A-Za-z0-9._%+-]+@[A-Za-z0-9.-]+\\.[A-Z|a-z]{2,}\\b'\n",
        " \n",
        "def check(email):\n",
        "    if(re.fullmatch(regex, email)):\n",
        "        print(\"Valid Email\")\n",
        "    else:\n",
        "        print(\"Invalid Email\")\n",
        "if __name__ == '__main__':\n",
        "    email = \"rohit24@gmail.com\"\n",
        "    check(email)\n",
        "    email = \"19pa1a05e6.edu.in\"\n",
        "    check(email) \n",
        "    email = \"rohitvarma.com\"\n",
        "    check(email)"
      ],
      "execution_count": 15,
      "outputs": [
        {
          "output_type": "stream",
          "name": "stdout",
          "text": [
            "Valid Email\n",
            "Invalid Email\n",
            "Invalid Email\n"
          ]
        }
      ]
    },
    {
      "cell_type": "markdown",
      "metadata": {
        "id": "Zwh4Yl5yO9Ms"
      },
      "source": [
        "8.Check whether the Aadhar number is valid or not ( It should have 12 digits, It should not start with 0 and 1, It should not contain any alphabet and special characters, It should have white space after every 4 digits)\n"
      ]
    },
    {
      "cell_type": "code",
      "metadata": {
        "colab": {
          "base_uri": "https://localhost:8080/"
        },
        "id": "jaYOvEgsPDvM",
        "outputId": "b7f13dc6-46fa-4954-91f5-22479a210b56"
      },
      "source": [
        "def isValidAadharNumber(str):\n",
        "  regex = (\"^[2-9]{1}[0-9]{3}\\\\\" + \"s[0-9]{4}\\\\s[0-9]{4}$\")\n",
        "  a= re.compile(regex)\n",
        "  if (str == None):\n",
        "        return False\n",
        "  if(re.search(a, str)):\n",
        "        return True\n",
        "  else:\n",
        "        return False\n",
        "s1 = \"2345 9834 0512 \"\n",
        "print(isValidAadharNumber(s1))\n",
        "s2 = \"7865 1234 4w12\"\n",
        "print(isValidAadharNumber(s2))\n",
        "s3 = \"9817 9834 601256 5@12\"\n",
        "print(isValidAadharNumber(s3))\n",
        "s4 = \"3675 98F00 60#2\"\n",
        "print(isValidAadharNumber(s4))\n",
        "s5 = \"2347 9834 6012\"\n",
        "print(isValidAadharNumber(s5))"
      ],
      "execution_count": 17,
      "outputs": [
        {
          "output_type": "stream",
          "name": "stdout",
          "text": [
            "False\n",
            "False\n",
            "False\n",
            "False\n",
            "True\n"
          ]
        }
      ]
    }
  ]
}